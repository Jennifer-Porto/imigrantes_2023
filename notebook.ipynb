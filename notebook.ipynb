{
 "cells": [
  {
   "cell_type": "code",
   "execution_count": 5,
   "metadata": {},
   "outputs": [
    {
     "name": "stderr",
     "output_type": "stream",
     "text": [
      "<>:5: SyntaxWarning: invalid escape sequence '\\J'\n",
      "<>:5: SyntaxWarning: invalid escape sequence '\\J'\n",
      "C:\\Users\\jenni\\AppData\\Local\\Temp\\ipykernel_6844\\3695179426.py:5: SyntaxWarning: invalid escape sequence '\\J'\n",
      "  df_janeiro = pd.read_csv('BD_imigrantes_2023\\JANEIRO_2023.csv',delimiter = ';')\n"
     ]
    },
    {
     "data": {
      "text/html": [
       "<div>\n",
       "<style scoped>\n",
       "    .dataframe tbody tr th:only-of-type {\n",
       "        vertical-align: middle;\n",
       "    }\n",
       "\n",
       "    .dataframe tbody tr th {\n",
       "        vertical-align: top;\n",
       "    }\n",
       "\n",
       "    .dataframe thead th {\n",
       "        text-align: right;\n",
       "    }\n",
       "</style>\n",
       "<table border=\"1\" class=\"dataframe\">\n",
       "  <thead>\n",
       "    <tr style=\"text-align: right;\">\n",
       "      <th></th>\n",
       "      <th>UF</th>\n",
       "      <th>NACIONALIDADE</th>\n",
       "      <th>CLASSIFICACAO</th>\n",
       "      <th>QTD</th>\n",
       "    </tr>\n",
       "  </thead>\n",
       "  <tbody>\n",
       "    <tr>\n",
       "      <th>0</th>\n",
       "      <td>SP</td>\n",
       "      <td>COLÔMBIA</td>\n",
       "      <td>Residente</td>\n",
       "      <td>10802</td>\n",
       "    </tr>\n",
       "    <tr>\n",
       "      <th>1</th>\n",
       "      <td>SP</td>\n",
       "      <td>BOLÍVIA</td>\n",
       "      <td>Residente</td>\n",
       "      <td>86921</td>\n",
       "    </tr>\n",
       "    <tr>\n",
       "      <th>2</th>\n",
       "      <td>SP</td>\n",
       "      <td>ARGENTINA</td>\n",
       "      <td>Residente</td>\n",
       "      <td>21888</td>\n",
       "    </tr>\n",
       "    <tr>\n",
       "      <th>3</th>\n",
       "      <td>SP</td>\n",
       "      <td>CORÉIA DO SUL</td>\n",
       "      <td>Residente</td>\n",
       "      <td>15626</td>\n",
       "    </tr>\n",
       "    <tr>\n",
       "      <th>4</th>\n",
       "      <td>SP</td>\n",
       "      <td>PORTUGAL</td>\n",
       "      <td>Residente</td>\n",
       "      <td>77525</td>\n",
       "    </tr>\n",
       "  </tbody>\n",
       "</table>\n",
       "</div>"
      ],
      "text/plain": [
       "   UF  NACIONALIDADE CLASSIFICACAO    QTD\n",
       "0  SP       COLÔMBIA     Residente  10802\n",
       "1  SP        BOLÍVIA     Residente  86921\n",
       "2  SP      ARGENTINA     Residente  21888\n",
       "3  SP  CORÉIA DO SUL     Residente  15626\n",
       "4  SP       PORTUGAL     Residente  77525"
      ]
     },
     "execution_count": 5,
     "metadata": {},
     "output_type": "execute_result"
    }
   ],
   "source": [
    "#importando biblioteca\n",
    "import pandas as pd\n",
    "\n",
    "#lendo dados\n",
    "df_janeiro = pd.read_csv('BD_imigrantes_2023\\JANEIRO_2023.csv',delimiter = ';')\n",
    "df_janeiro.head()"
   ]
  },
  {
   "cell_type": "code",
   "execution_count": 9,
   "metadata": {},
   "outputs": [
    {
     "data": {
      "text/plain": [
       "268.78490052712124"
      ]
     },
     "execution_count": 9,
     "metadata": {},
     "output_type": "execute_result"
    }
   ],
   "source": [
    "def media_mes(data_frame):\n",
    "    coluna = 'QTD'\n",
    "    media = data_frame[coluna].mean()\n",
    "    return media\n",
    "\n"
   ]
  }
 ],
 "metadata": {
  "kernelspec": {
   "display_name": "venv",
   "language": "python",
   "name": "python3"
  },
  "language_info": {
   "codemirror_mode": {
    "name": "ipython",
    "version": 3
   },
   "file_extension": ".py",
   "mimetype": "text/x-python",
   "name": "python",
   "nbconvert_exporter": "python",
   "pygments_lexer": "ipython3",
   "version": "3.12.0"
  }
 },
 "nbformat": 4,
 "nbformat_minor": 2
}
